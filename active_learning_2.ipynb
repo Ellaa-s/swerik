{
 "cells": [
  {
   "cell_type": "code",
   "execution_count": 11,
   "metadata": {},
   "outputs": [],
   "source": [
    "import torch\n",
    "import numpy as np\n",
    "import pandas as pd\n",
    "#import logging\n",
    "import numpy as np\n",
    "from small_text import TextDataset\n",
    "from transformers import AutoTokenizer\n",
    "from small_text.integrations.transformers.classifiers.setfit import SetFitModelArguments\n",
    "from small_text.integrations.transformers.classifiers.factories import SetFitClassificationFactory\n",
    "from small_text import (\n",
    "PoolBasedActiveLearner,\n",
    "PredictionEntropy,\n",
    "TransformerBasedClassificationFactory,\n",
    "TransformerModelArguments,\n",
    "random_initialization_balanced,\n",
    "TransformersDataset\n",
    ")\n",
    "\n",
    "import gc\n",
    "import torch\n",
    "from sklearn.metrics import accuracy_score"
   ]
  },
  {
   "cell_type": "code",
   "execution_count": null,
   "metadata": {},
   "outputs": [],
   "source": [
    "df_train = pd.read_csv('data_stratified_sampling/train_data_stratified.csv')\n",
    "\n",
    "df_train.head(20)\n",
    "\n",
    "df_test = pd.read_csv('data_stratified_sampling/test_set_stratified.csv')"
   ]
  },
  {
   "cell_type": "code",
   "execution_count": 8,
   "metadata": {},
   "outputs": [],
   "source": [
    "num_classes = np.unique(df_train['marginal_text']).shape[0]"
   ]
  },
  {
   "cell_type": "code",
   "execution_count": null,
   "metadata": {},
   "outputs": [],
   "source": []
  },
  {
   "cell_type": "code",
   "execution_count": 5,
   "metadata": {},
   "outputs": [],
   "source": [
    "from transformers import AutoTokenizer\n",
    "\n",
    "transformer_model_name = 'KB/bert-base-swedish-cased'\n",
    "\n",
    "tokenizer = AutoTokenizer.from_pretrained(transformer_model_name)"
   ]
  },
  {
   "cell_type": "code",
   "execution_count": 10,
   "metadata": {},
   "outputs": [
    {
     "name": "stderr",
     "output_type": "stream",
     "text": [
      "/home/drunken-monkey/miniconda3/envs/swerik/lib/python3.9/site-packages/small_text/utils/annotations.py:67: ExperimentalWarning: The function from_arrays is experimental and maybe subject to change soon.\n",
      "  warnings.warn(f'The {subject} {func_or_class.__name__} is experimental '\n"
     ]
    }
   ],
   "source": [
    "from small_text import TransformersDataset\n",
    "\n",
    "target_labels = np.arange(num_classes)\n",
    "\n",
    "train = TransformersDataset.from_arrays(df_train['text_line'] , df_train['marginal_text'] , tokenizer , max_length = 60 , target_labels=target_labels)\n",
    "\n",
    "test = TransformersDataset.from_arrays(df_test['text_line'] , df_test['marginal_text'], tokenizer, max_length = 60 , target_labels=target_labels)"
   ]
  },
  {
   "cell_type": "code",
   "execution_count": 13,
   "metadata": {},
   "outputs": [
    {
     "data": {
      "text/plain": [
       "array([0, 0, 0, ..., 0, 0, 0])"
      ]
     },
     "execution_count": 13,
     "metadata": {},
     "output_type": "execute_result"
    }
   ],
   "source": [
    "train.y"
   ]
  },
  {
   "cell_type": "code",
   "execution_count": 17,
   "metadata": {},
   "outputs": [
    {
     "name": "stderr",
     "output_type": "stream",
     "text": [
      "/home/drunken-monkey/miniconda3/envs/swerik/lib/python3.9/site-packages/small_text/integrations/pytorch/classifiers/base.py:57: FutureWarning: You are using `torch.load` with `weights_only=False` (the current default value), which uses the default pickle module implicitly. It is possible to construct malicious pickle data which will execute arbitrary code during unpickling (See https://github.com/pytorch/pytorch/blob/main/SECURITY.md#untrusted-models for more details). In a future release, the default value for `weights_only` will be flipped to `True`. This limits the functions that could be executed during unpickling. Arbitrary objects will no longer be allowed to be loaded via this mode unless they are explicitly allowlisted by the user via `torch.serialization.add_safe_globals`. We recommend you start setting `weights_only=True` for any use case where you don't have full control of the loaded file. Please open an issue on GitHub for any issues related to this experimental feature.\n",
      "  self.model.load_state_dict(torch.load(model_selection_result.model_path))\n",
      "/home/drunken-monkey/miniconda3/envs/swerik/lib/python3.9/site-packages/small_text/integrations/pytorch/classifiers/base.py:59: FutureWarning: You are using `torch.load` with `weights_only=False` (the current default value), which uses the default pickle module implicitly. It is possible to construct malicious pickle data which will execute arbitrary code during unpickling (See https://github.com/pytorch/pytorch/blob/main/SECURITY.md#untrusted-models for more details). In a future release, the default value for `weights_only` will be flipped to `True`. This limits the functions that could be executed during unpickling. Arbitrary objects will no longer be allowed to be loaded via this mode unless they are explicitly allowlisted by the user via `torch.serialization.add_safe_globals`. We recommend you start setting `weights_only=True` for any use case where you don't have full control of the loaded file. Please open an issue on GitHub for any issues related to this experimental feature.\n",
      "  optimizer.load_state_dict(torch.load(optimizer_path))\n"
     ]
    }
   ],
   "source": [
    "def intialize_active_learner(active_learner , y_train):\n",
    "\n",
    "    indicies_intial = random_initialization_balanced(y_train , n_samples = 20)\n",
    "\n",
    "    active_learner.initialize_data(indicies_intial, y_train[indicies_intial])\n",
    "\n",
    "    return indicies_intial\n",
    "\n",
    "transformer_model = TransformerModelArguments(transformer_model_name)\n",
    "\n",
    "clf_factory = TransformerBasedClassificationFactory(transformer_model , num_classes, kwargs=dict({'device':'cuda', 'mini_batch_size':32, 'class_weight':'balanced'}))\n",
    "\n",
    "\n",
    "query_startegy = PredictionEntropy()\n",
    "\n",
    "active_learner = PoolBasedActiveLearner(clf_factory , query_startegy, train)\n",
    "\n",
    "indices_labeled = intialize_active_learner(active_learner,train.y)\n",
    "    "
   ]
  },
  {
   "cell_type": "code",
   "execution_count": 18,
   "metadata": {},
   "outputs": [
    {
     "name": "stdout",
     "output_type": "stream",
     "text": [
      "Train accuracy 0.9\n",
      "Test accuracy 0.8346153846153846\n"
     ]
    }
   ],
   "source": [
    "from scipy.stats import entropy\n",
    "from small_text.utils.data import list_length\n",
    "\n",
    "num_queries = 5\n",
    "\n",
    "def get_entropy_labelled(row, model, indices_labeled):\n",
    "    p = model.predict_proba(row)\n",
    "    entr = np.apply_along_axis(lambda x: entropy(x) ,1 ,p)\n",
    "    query2 = pd.DataFrame(entr , indices_labeled)\n",
    "    query3 = np.array(query2.nlargest(1,0).index.values, dtype=np.int64)\n",
    "\n",
    "    return query3\n",
    "\n",
    "def evaluate(active_learner , train, test, indices_labeled):\n",
    "    y_pred = active_learner.classifier.predict(train)\n",
    "\n",
    "    y_prob = get_entropy_labelled(train , active_learner.classifier, indices_labeled)\n",
    "\n",
    "    y_pred_test = active_learner.classifier.predict(test)\n",
    "\n",
    "    test_acc = accuracy_score(y_pred_test , test.y)\n",
    "\n",
    "    print(f'Train accuracy {accuracy_score(y_pred , train.y)}')\n",
    "    print(f'Test accuracy {test_acc}')\n",
    "\n",
    "    return test_acc, y_prob\n",
    "\n",
    "results = []\n",
    "eval, mix_query = evaluate(active_learner , train[indices_labeled] , test, indices_labeled)\n",
    "results.append(eval)\n",
    "\n"
   ]
  },
  {
   "cell_type": "code",
   "execution_count": 20,
   "metadata": {},
   "outputs": [
    {
     "name": "stderr",
     "output_type": "stream",
     "text": [
      "/home/drunken-monkey/miniconda3/envs/swerik/lib/python3.9/site-packages/small_text/integrations/pytorch/classifiers/base.py:57: FutureWarning: You are using `torch.load` with `weights_only=False` (the current default value), which uses the default pickle module implicitly. It is possible to construct malicious pickle data which will execute arbitrary code during unpickling (See https://github.com/pytorch/pytorch/blob/main/SECURITY.md#untrusted-models for more details). In a future release, the default value for `weights_only` will be flipped to `True`. This limits the functions that could be executed during unpickling. Arbitrary objects will no longer be allowed to be loaded via this mode unless they are explicitly allowlisted by the user via `torch.serialization.add_safe_globals`. We recommend you start setting `weights_only=True` for any use case where you don't have full control of the loaded file. Please open an issue on GitHub for any issues related to this experimental feature.\n",
      "  self.model.load_state_dict(torch.load(model_selection_result.model_path))\n",
      "/home/drunken-monkey/miniconda3/envs/swerik/lib/python3.9/site-packages/small_text/integrations/pytorch/classifiers/base.py:59: FutureWarning: You are using `torch.load` with `weights_only=False` (the current default value), which uses the default pickle module implicitly. It is possible to construct malicious pickle data which will execute arbitrary code during unpickling (See https://github.com/pytorch/pytorch/blob/main/SECURITY.md#untrusted-models for more details). In a future release, the default value for `weights_only` will be flipped to `True`. This limits the functions that could be executed during unpickling. Arbitrary objects will no longer be allowed to be loaded via this mode unless they are explicitly allowlisted by the user via `torch.serialization.add_safe_globals`. We recommend you start setting `weights_only=True` for any use case where you don't have full control of the loaded file. Please open an issue on GitHub for any issues related to this experimental feature.\n",
      "  optimizer.load_state_dict(torch.load(optimizer_path))\n"
     ]
    },
    {
     "name": "stdout",
     "output_type": "stream",
     "text": [
      "---------------\n",
      "Iteration #0 (20 samples)\n",
      "Train accuracy 0.9\n",
      "Test accuracy 0.9038461538461539\n"
     ]
    },
    {
     "name": "stderr",
     "output_type": "stream",
     "text": [
      "/home/drunken-monkey/miniconda3/envs/swerik/lib/python3.9/site-packages/small_text/integrations/pytorch/classifiers/base.py:57: FutureWarning: You are using `torch.load` with `weights_only=False` (the current default value), which uses the default pickle module implicitly. It is possible to construct malicious pickle data which will execute arbitrary code during unpickling (See https://github.com/pytorch/pytorch/blob/main/SECURITY.md#untrusted-models for more details). In a future release, the default value for `weights_only` will be flipped to `True`. This limits the functions that could be executed during unpickling. Arbitrary objects will no longer be allowed to be loaded via this mode unless they are explicitly allowlisted by the user via `torch.serialization.add_safe_globals`. We recommend you start setting `weights_only=True` for any use case where you don't have full control of the loaded file. Please open an issue on GitHub for any issues related to this experimental feature.\n",
      "  self.model.load_state_dict(torch.load(model_selection_result.model_path))\n",
      "/home/drunken-monkey/miniconda3/envs/swerik/lib/python3.9/site-packages/small_text/integrations/pytorch/classifiers/base.py:59: FutureWarning: You are using `torch.load` with `weights_only=False` (the current default value), which uses the default pickle module implicitly. It is possible to construct malicious pickle data which will execute arbitrary code during unpickling (See https://github.com/pytorch/pytorch/blob/main/SECURITY.md#untrusted-models for more details). In a future release, the default value for `weights_only` will be flipped to `True`. This limits the functions that could be executed during unpickling. Arbitrary objects will no longer be allowed to be loaded via this mode unless they are explicitly allowlisted by the user via `torch.serialization.add_safe_globals`. We recommend you start setting `weights_only=True` for any use case where you don't have full control of the loaded file. Please open an issue on GitHub for any issues related to this experimental feature.\n",
      "  optimizer.load_state_dict(torch.load(optimizer_path))\n"
     ]
    },
    {
     "name": "stdout",
     "output_type": "stream",
     "text": [
      "---------------\n",
      "Iteration #1 (20 samples)\n",
      "Train accuracy 0.9\n",
      "Test accuracy 0.801923076923077\n"
     ]
    },
    {
     "name": "stderr",
     "output_type": "stream",
     "text": [
      "/home/drunken-monkey/miniconda3/envs/swerik/lib/python3.9/site-packages/small_text/integrations/pytorch/classifiers/base.py:57: FutureWarning: You are using `torch.load` with `weights_only=False` (the current default value), which uses the default pickle module implicitly. It is possible to construct malicious pickle data which will execute arbitrary code during unpickling (See https://github.com/pytorch/pytorch/blob/main/SECURITY.md#untrusted-models for more details). In a future release, the default value for `weights_only` will be flipped to `True`. This limits the functions that could be executed during unpickling. Arbitrary objects will no longer be allowed to be loaded via this mode unless they are explicitly allowlisted by the user via `torch.serialization.add_safe_globals`. We recommend you start setting `weights_only=True` for any use case where you don't have full control of the loaded file. Please open an issue on GitHub for any issues related to this experimental feature.\n",
      "  self.model.load_state_dict(torch.load(model_selection_result.model_path))\n",
      "/home/drunken-monkey/miniconda3/envs/swerik/lib/python3.9/site-packages/small_text/integrations/pytorch/classifiers/base.py:59: FutureWarning: You are using `torch.load` with `weights_only=False` (the current default value), which uses the default pickle module implicitly. It is possible to construct malicious pickle data which will execute arbitrary code during unpickling (See https://github.com/pytorch/pytorch/blob/main/SECURITY.md#untrusted-models for more details). In a future release, the default value for `weights_only` will be flipped to `True`. This limits the functions that could be executed during unpickling. Arbitrary objects will no longer be allowed to be loaded via this mode unless they are explicitly allowlisted by the user via `torch.serialization.add_safe_globals`. We recommend you start setting `weights_only=True` for any use case where you don't have full control of the loaded file. Please open an issue on GitHub for any issues related to this experimental feature.\n",
      "  optimizer.load_state_dict(torch.load(optimizer_path))\n"
     ]
    },
    {
     "name": "stdout",
     "output_type": "stream",
     "text": [
      "---------------\n",
      "Iteration #2 (20 samples)\n",
      "Train accuracy 0.95\n",
      "Test accuracy 0.9115384615384615\n"
     ]
    },
    {
     "name": "stderr",
     "output_type": "stream",
     "text": [
      "/home/drunken-monkey/miniconda3/envs/swerik/lib/python3.9/site-packages/small_text/integrations/pytorch/classifiers/base.py:57: FutureWarning: You are using `torch.load` with `weights_only=False` (the current default value), which uses the default pickle module implicitly. It is possible to construct malicious pickle data which will execute arbitrary code during unpickling (See https://github.com/pytorch/pytorch/blob/main/SECURITY.md#untrusted-models for more details). In a future release, the default value for `weights_only` will be flipped to `True`. This limits the functions that could be executed during unpickling. Arbitrary objects will no longer be allowed to be loaded via this mode unless they are explicitly allowlisted by the user via `torch.serialization.add_safe_globals`. We recommend you start setting `weights_only=True` for any use case where you don't have full control of the loaded file. Please open an issue on GitHub for any issues related to this experimental feature.\n",
      "  self.model.load_state_dict(torch.load(model_selection_result.model_path))\n",
      "/home/drunken-monkey/miniconda3/envs/swerik/lib/python3.9/site-packages/small_text/integrations/pytorch/classifiers/base.py:59: FutureWarning: You are using `torch.load` with `weights_only=False` (the current default value), which uses the default pickle module implicitly. It is possible to construct malicious pickle data which will execute arbitrary code during unpickling (See https://github.com/pytorch/pytorch/blob/main/SECURITY.md#untrusted-models for more details). In a future release, the default value for `weights_only` will be flipped to `True`. This limits the functions that could be executed during unpickling. Arbitrary objects will no longer be allowed to be loaded via this mode unless they are explicitly allowlisted by the user via `torch.serialization.add_safe_globals`. We recommend you start setting `weights_only=True` for any use case where you don't have full control of the loaded file. Please open an issue on GitHub for any issues related to this experimental feature.\n",
      "  optimizer.load_state_dict(torch.load(optimizer_path))\n"
     ]
    },
    {
     "name": "stdout",
     "output_type": "stream",
     "text": [
      "---------------\n",
      "Iteration #3 (20 samples)\n",
      "Train accuracy 0.9\n",
      "Test accuracy 0.9038461538461539\n"
     ]
    },
    {
     "name": "stderr",
     "output_type": "stream",
     "text": [
      "/home/drunken-monkey/miniconda3/envs/swerik/lib/python3.9/site-packages/small_text/integrations/pytorch/classifiers/base.py:57: FutureWarning: You are using `torch.load` with `weights_only=False` (the current default value), which uses the default pickle module implicitly. It is possible to construct malicious pickle data which will execute arbitrary code during unpickling (See https://github.com/pytorch/pytorch/blob/main/SECURITY.md#untrusted-models for more details). In a future release, the default value for `weights_only` will be flipped to `True`. This limits the functions that could be executed during unpickling. Arbitrary objects will no longer be allowed to be loaded via this mode unless they are explicitly allowlisted by the user via `torch.serialization.add_safe_globals`. We recommend you start setting `weights_only=True` for any use case where you don't have full control of the loaded file. Please open an issue on GitHub for any issues related to this experimental feature.\n",
      "  self.model.load_state_dict(torch.load(model_selection_result.model_path))\n",
      "/home/drunken-monkey/miniconda3/envs/swerik/lib/python3.9/site-packages/small_text/integrations/pytorch/classifiers/base.py:59: FutureWarning: You are using `torch.load` with `weights_only=False` (the current default value), which uses the default pickle module implicitly. It is possible to construct malicious pickle data which will execute arbitrary code during unpickling (See https://github.com/pytorch/pytorch/blob/main/SECURITY.md#untrusted-models for more details). In a future release, the default value for `weights_only` will be flipped to `True`. This limits the functions that could be executed during unpickling. Arbitrary objects will no longer be allowed to be loaded via this mode unless they are explicitly allowlisted by the user via `torch.serialization.add_safe_globals`. We recommend you start setting `weights_only=True` for any use case where you don't have full control of the loaded file. Please open an issue on GitHub for any issues related to this experimental feature.\n",
      "  optimizer.load_state_dict(torch.load(optimizer_path))\n"
     ]
    },
    {
     "name": "stdout",
     "output_type": "stream",
     "text": [
      "---------------\n",
      "Iteration #4 (20 samples)\n",
      "Train accuracy 1.0\n",
      "Test accuracy 0.9076923076923077\n"
     ]
    }
   ],
   "source": [
    "for i in range(num_queries):\n",
    "    indices_queried = active_learner.query(num_samples=5)\n",
    "\n",
    "    y = train.y[indices_queried]\n",
    "\n",
    "    yy = train.y[mix_query]\n",
    "\n",
    "    active_learner.update(y)\n",
    "\n",
    "    active_learner.update_label_at(mix_query[0],yy[0],retrain = True)\n",
    "\n",
    "    indicies_label = np.concatenate([indices_queried , indices_labeled])\n",
    "\n",
    "    print('---------------')\n",
    "    print(f'Iteration #{i} ({len(indices_labeled)} samples)')\n",
    "    eval, mix_query = evaluate(active_learner, train[indices_labeled], test,indices_labeled)\n",
    "    results.append(eval)\n"
   ]
  },
  {
   "cell_type": "code",
   "execution_count": null,
   "metadata": {},
   "outputs": [],
   "source": []
  }
 ],
 "metadata": {
  "kernelspec": {
   "display_name": "swerik",
   "language": "python",
   "name": "python3"
  },
  "language_info": {
   "codemirror_mode": {
    "name": "ipython",
    "version": 3
   },
   "file_extension": ".py",
   "mimetype": "text/x-python",
   "name": "python",
   "nbconvert_exporter": "python",
   "pygments_lexer": "ipython3",
   "version": "3.9.20"
  }
 },
 "nbformat": 4,
 "nbformat_minor": 2
}
