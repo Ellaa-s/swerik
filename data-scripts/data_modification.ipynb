{
 "cells": [
  {
   "cell_type": "code",
   "execution_count": 1,
   "metadata": {},
   "outputs": [],
   "source": [
    "import pandas as pd"
   ]
  },
  {
   "cell_type": "code",
   "execution_count": 13,
   "metadata": {},
   "outputs": [],
   "source": [
    "def _sum (file_path: str):\n",
    "    df  = pd.read_csv(file_path)\n",
    "    df['final_target'] = df.loc[:,['marginal_text','merged']].sum(axis=1)\n",
    "\n",
    "    df.to_csv(file_path)\n",
    "\n",
    "    return \"file saved\""
   ]
  },
  {
   "cell_type": "code",
   "execution_count": 14,
   "metadata": {},
   "outputs": [
    {
     "data": {
      "text/plain": [
       "'file saved'"
      ]
     },
     "execution_count": 14,
     "metadata": {},
     "output_type": "execute_result"
    }
   ],
   "source": [
    "_sum(file_path='data/multiclassification_data_set/train_data_multi.csv')\n",
    "_sum(file_path='data/multiclassification_data_set/test_set_multi.csv')\n",
    "_sum(file_path='data/multiclassification_data_set/val_set_multi.csv')"
   ]
  }
 ],
 "metadata": {
  "kernelspec": {
   "display_name": "swerik",
   "language": "python",
   "name": "python3"
  },
  "language_info": {
   "codemirror_mode": {
    "name": "ipython",
    "version": 3
   },
   "file_extension": ".py",
   "mimetype": "text/x-python",
   "name": "python",
   "nbconvert_exporter": "python",
   "pygments_lexer": "ipython3",
   "version": "3.9.20"
  }
 },
 "nbformat": 4,
 "nbformat_minor": 2
}
